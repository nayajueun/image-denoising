{
 "cells": [
  {
   "cell_type": "code",
   "execution_count": 7,
   "metadata": {},
   "outputs": [],
   "source": [
    "import os\n",
    "import numpy as np\n",
    "import cv2\n",
    "import skimage.restoration as restoration\n",
    "import pywt\n",
    "import skimage.metrics as metrics\n",
    "import matplotlib.pyplot as plt\n",
    "import random\n",
    "import pandas as pd\n"
   ]
  },
  {
   "cell_type": "code",
   "execution_count": 9,
   "metadata": {},
   "outputs": [],
   "source": [
    "# Function to load images\n",
    "def load_images(image_dir):\n",
    "    images = []\n",
    "    for filename in os.listdir(image_dir):\n",
    "        if filename.endswith(\".jpeg\"):\n",
    "            img = cv2.imread(os.path.join(image_dir, filename), cv2.IMREAD_GRAYSCALE)\n",
    "            images.append(img)\n",
    "    return images\n",
    "\n",
    "# Preprocessing function\n",
    "def preprocess_images(images, historgram_eq=True):\n",
    "    processed_images = []\n",
    "    for img in images:\n",
    "        # Convert to grayscale if not already (assuming image is loaded in grayscale)\n",
    "        # Resize if necessary (skipped here)\n",
    "        # Normalize the intensity values\n",
    "        img_normalized = cv2.normalize(img, None, alpha=0, beta=1, norm_type=cv2.NORM_MINMAX, dtype=cv2.CV_32F)\n",
    "        # Histogram equalization\n",
    "        if historgram_eq:\n",
    "            img_eq = cv2.equalizeHist(np.uint8(img_normalized*255))\n",
    "        processed_images.append(img_eq)\n",
    "    return processed_images\n",
    "\n",
    "# Noise reduction functions\n",
    "def apply_nlm(images, h=1.0):\n",
    "    nlm_images = [restoration.denoise_nl_means(img, h=h, fast_mode=True) for img in images]\n",
    "    return nlm_images\n",
    "\n",
    "def apply_wavelet(images):\n",
    "    wavelet_images = []\n",
    "    for img in images:\n",
    "        coeffs2 = pywt.dwt2(img, 'bior1.3')\n",
    "        LL, (LH, HL, HH) = coeffs2\n",
    "        wavelet_images.append(LL)\n",
    "    return wavelet_images\n",
    "\n",
    "# Performance evaluation function\n",
    "def evaluate_images(original, processed):\n",
    "    psnr_values = [metrics.peak_signal_noise_ratio(original[i], processed[i]) for i in range(len(original))]\n",
    "    return psnr_values\n",
    "\n",
    "# Visualization function\n",
    "def visualize_comparisons(original, nlm, wavelet):\n",
    "    fig, axs = plt.subplots(nrows=len(original), ncols=3, figsize=(15, 5*len(original)))\n",
    "    for i in range(len(original)):\n",
    "        axs[i, 0].imshow(original[i], cmap='gray')\n",
    "        axs[i, 0].set_title('Original')\n",
    "        axs[i, 1].imshow(nlm[i], cmap='gray')\n",
    "        axs[i, 1].set_title('NLM')\n",
    "        axs[i, 2].imshow(wavelet[i], cmap='gray')\n",
    "        axs[i, 2].set_title('Wavelet')\n",
    "        for ax in axs[i, :]:\n",
    "            ax.axis('off')\n",
    "    plt.show()\n"
   ]
  },
  {
   "cell_type": "code",
   "execution_count": 11,
   "metadata": {},
   "outputs": [],
   "source": [
    "# Pipeline execution\n",
    "image_dir_normal = 'images/chest_xray/test/NORMAL'\n",
    "image_dir_pneumonia = 'images/chest_xray/test/PNEUMONIA'  \n",
    "original_images = load_images(image_dir_normal) + load_images(image_dir_pneumonia)\n",
    "random.shuffle(original_images)"
   ]
  },
  {
   "cell_type": "code",
   "execution_count": 12,
   "metadata": {},
   "outputs": [
    {
     "ename": "KeyboardInterrupt",
     "evalue": "",
     "output_type": "error",
     "traceback": [
      "\u001b[0;31m---------------------------------------------------------------------------\u001b[0m",
      "\u001b[0;31mKeyboardInterrupt\u001b[0m                         Traceback (most recent call last)",
      "Cell \u001b[0;32mIn[12], line 2\u001b[0m\n\u001b[1;32m      1\u001b[0m preprocessed_images \u001b[38;5;241m=\u001b[39m preprocess_images(original_images)\n\u001b[0;32m----> 2\u001b[0m nlm_images \u001b[38;5;241m=\u001b[39m \u001b[43mapply_nlm\u001b[49m\u001b[43m(\u001b[49m\u001b[43mpreprocessed_images\u001b[49m\u001b[43m)\u001b[49m\n\u001b[1;32m      3\u001b[0m wavelet_images \u001b[38;5;241m=\u001b[39m apply_wavelet(preprocessed_images)\n\u001b[1;32m      4\u001b[0m psnr_nlm \u001b[38;5;241m=\u001b[39m evaluate_images(original_images, nlm_images)\n",
      "Cell \u001b[0;32mIn[9], line 26\u001b[0m, in \u001b[0;36mapply_nlm\u001b[0;34m(images, h)\u001b[0m\n\u001b[1;32m     25\u001b[0m \u001b[38;5;28;01mdef\u001b[39;00m \u001b[38;5;21mapply_nlm\u001b[39m(images, h\u001b[38;5;241m=\u001b[39m\u001b[38;5;241m1.0\u001b[39m):\n\u001b[0;32m---> 26\u001b[0m     nlm_images \u001b[38;5;241m=\u001b[39m [\u001b[43mrestoration\u001b[49m\u001b[38;5;241;43m.\u001b[39;49m\u001b[43mdenoise_nl_means\u001b[49m\u001b[43m(\u001b[49m\u001b[43mimg\u001b[49m\u001b[43m,\u001b[49m\u001b[43m \u001b[49m\u001b[43mh\u001b[49m\u001b[38;5;241;43m=\u001b[39;49m\u001b[43mh\u001b[49m\u001b[43m,\u001b[49m\u001b[43m \u001b[49m\u001b[43mfast_mode\u001b[49m\u001b[38;5;241;43m=\u001b[39;49m\u001b[38;5;28;43;01mTrue\u001b[39;49;00m\u001b[43m)\u001b[49m \u001b[38;5;28;01mfor\u001b[39;00m img \u001b[38;5;129;01min\u001b[39;00m images]\n\u001b[1;32m     27\u001b[0m     \u001b[38;5;28;01mreturn\u001b[39;00m nlm_images\n",
      "File \u001b[0;32m~/Library/Python/3.12/lib/python/site-packages/skimage/_shared/utils.py:316\u001b[0m, in \u001b[0;36mchannel_as_last_axis.__call__.<locals>.fixed_func\u001b[0;34m(*args, **kwargs)\u001b[0m\n\u001b[1;32m    313\u001b[0m channel_axis \u001b[38;5;241m=\u001b[39m kwargs\u001b[38;5;241m.\u001b[39mget(\u001b[38;5;124m'\u001b[39m\u001b[38;5;124mchannel_axis\u001b[39m\u001b[38;5;124m'\u001b[39m, \u001b[38;5;28;01mNone\u001b[39;00m)\n\u001b[1;32m    315\u001b[0m \u001b[38;5;28;01mif\u001b[39;00m channel_axis \u001b[38;5;129;01mis\u001b[39;00m \u001b[38;5;28;01mNone\u001b[39;00m:\n\u001b[0;32m--> 316\u001b[0m     \u001b[38;5;28;01mreturn\u001b[39;00m \u001b[43mfunc\u001b[49m\u001b[43m(\u001b[49m\u001b[38;5;241;43m*\u001b[39;49m\u001b[43margs\u001b[49m\u001b[43m,\u001b[49m\u001b[43m \u001b[49m\u001b[38;5;241;43m*\u001b[39;49m\u001b[38;5;241;43m*\u001b[39;49m\u001b[43mkwargs\u001b[49m\u001b[43m)\u001b[49m\n\u001b[1;32m    318\u001b[0m \u001b[38;5;66;03m# TODO: convert scalars to a tuple in anticipation of eventually\u001b[39;00m\n\u001b[1;32m    319\u001b[0m \u001b[38;5;66;03m#       supporting a tuple of channel axes. Right now, only an\u001b[39;00m\n\u001b[1;32m    320\u001b[0m \u001b[38;5;66;03m#       integer or a single-element tuple is supported, though.\u001b[39;00m\n\u001b[1;32m    321\u001b[0m \u001b[38;5;28;01mif\u001b[39;00m np\u001b[38;5;241m.\u001b[39misscalar(channel_axis):\n",
      "File \u001b[0;32m~/Library/Python/3.12/lib/python/site-packages/skimage/restoration/non_local_means.py:177\u001b[0m, in \u001b[0;36mdenoise_nl_means\u001b[0;34m(image, patch_size, patch_distance, h, fast_mode, sigma, preserve_range, channel_axis)\u001b[0m\n\u001b[1;32m    175\u001b[0m     \u001b[38;5;28;01melse\u001b[39;00m:\n\u001b[1;32m    176\u001b[0m         \u001b[38;5;28;01mraise\u001b[39;00m \u001b[38;5;167;01mNotImplementedError\u001b[39;00m(\u001b[38;5;124m\"\u001b[39m\u001b[38;5;124m4D requires fast_mode to be True.\u001b[39m\u001b[38;5;124m\"\u001b[39m)\n\u001b[0;32m--> 177\u001b[0m dn \u001b[38;5;241m=\u001b[39m np\u001b[38;5;241m.\u001b[39masarray(\u001b[43mnlm_func\u001b[49m\u001b[43m(\u001b[49m\u001b[43mimage\u001b[49m\u001b[43m,\u001b[49m\u001b[43m \u001b[49m\u001b[38;5;241;43m*\u001b[39;49m\u001b[38;5;241;43m*\u001b[39;49m\u001b[43mkwargs\u001b[49m\u001b[43m)\u001b[49m)\n\u001b[1;32m    178\u001b[0m \u001b[38;5;28;01mreturn\u001b[39;00m dn\n",
      "File \u001b[0;32m_nl_means_denoising.pyx:794\u001b[0m, in \u001b[0;36mskimage.restoration._nl_means_denoising._fast_nl_means_denoising_2d\u001b[0;34m()\u001b[0m\n",
      "File \u001b[0;32m~/Library/Python/3.12/lib/python/site-packages/numpy/core/fromnumeric.py:1487\u001b[0m, in \u001b[0;36m_squeeze_dispatcher\u001b[0;34m(a, axis)\u001b[0m\n\u001b[1;32m   1482\u001b[0m     a \u001b[38;5;241m=\u001b[39m concatenate((a,) \u001b[38;5;241m*\u001b[39m repeats)[:new_size]\n\u001b[1;32m   1484\u001b[0m     \u001b[38;5;28;01mreturn\u001b[39;00m reshape(a, new_shape)\n\u001b[0;32m-> 1487\u001b[0m \u001b[38;5;28;01mdef\u001b[39;00m \u001b[38;5;21m_squeeze_dispatcher\u001b[39m(a, axis\u001b[38;5;241m=\u001b[39m\u001b[38;5;28;01mNone\u001b[39;00m):\n\u001b[1;32m   1488\u001b[0m     \u001b[38;5;28;01mreturn\u001b[39;00m (a,)\n\u001b[1;32m   1491\u001b[0m \u001b[38;5;129m@array_function_dispatch\u001b[39m(_squeeze_dispatcher)\n\u001b[1;32m   1492\u001b[0m \u001b[38;5;28;01mdef\u001b[39;00m \u001b[38;5;21msqueeze\u001b[39m(a, axis\u001b[38;5;241m=\u001b[39m\u001b[38;5;28;01mNone\u001b[39;00m):\n",
      "\u001b[0;31mKeyboardInterrupt\u001b[0m: "
     ]
    }
   ],
   "source": [
    "preprocessed_images = preprocess_images(original_images)\n",
    "nlm_images = apply_nlm(preprocessed_images)\n",
    "wavelet_images = apply_wavelet(preprocessed_images)\n",
    "psnr_nlm = evaluate_images(original_images, nlm_images)\n",
    "psnr_wavelet = evaluate_images(original_images, wavelet_images)\n",
    "visualize_comparisons(original_images, nlm_images, wavelet_images)"
   ]
  },
  {
   "cell_type": "code",
   "execution_count": null,
   "metadata": {},
   "outputs": [],
   "source": []
  }
 ],
 "metadata": {
  "kernelspec": {
   "display_name": "venv",
   "language": "python",
   "name": "python3"
  },
  "language_info": {
   "codemirror_mode": {
    "name": "ipython",
    "version": 3
   },
   "file_extension": ".py",
   "mimetype": "text/x-python",
   "name": "python",
   "nbconvert_exporter": "python",
   "pygments_lexer": "ipython3",
   "version": "3.12.2"
  }
 },
 "nbformat": 4,
 "nbformat_minor": 2
}
